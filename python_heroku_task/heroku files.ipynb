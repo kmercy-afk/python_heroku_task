{
 "cells": [
  {
   "cell_type": "code",
   "execution_count": 1,
   "id": "df4313ac",
   "metadata": {},
   "outputs": [
    {
     "name": "stdout",
     "output_type": "stream",
     "text": [
      "Procfile created! Contents:\n",
      "web: gunicorn python_heroku_task.wsgi:application\n",
      "\n"
     ]
    }
   ],
   "source": [
    "# Cell 1: Create Procfile\n",
    "with open('Procfile', 'w') as f:\n",
    "    f.write('web: gunicorn python_heroku_task.wsgi:application\\n')\n",
    "\n",
    "print(\"Procfile created! Contents:\")\n",
    "with open('Procfile', 'r') as f:\n",
    "    print(f.read())"
   ]
  },
  {
   "cell_type": "code",
   "execution_count": 2,
   "id": "9ebe8708",
   "metadata": {},
   "outputs": [
    {
     "name": "stdout",
     "output_type": "stream",
     "text": [
      "runtime.txt created! Contents:\n",
      "python-3.9.7\n",
      "\n"
     ]
    }
   ],
   "source": [
    "# Cell 2: Create runtime.txt\n",
    "with open('runtime.txt', 'w') as f:\n",
    "    f.write('python-3.9.7\\n')\n",
    "\n",
    "print(\"runtime.txt created! Contents:\")\n",
    "with open('runtime.txt', 'r') as f:\n",
    "    print(f.read())"
   ]
  },
  {
   "cell_type": "code",
   "execution_count": 3,
   "id": "4f369522",
   "metadata": {},
   "outputs": [
    {
     "name": "stdout",
     "output_type": "stream",
     "text": [
      "Heroku files ready: ['Procfile', 'runtime.txt']\n"
     ]
    }
   ],
   "source": [
    "# Cell 3: Check files in current directory\n",
    "import os\n",
    "files = [f for f in os.listdir('.') if f in ['Procfile', 'runtime.txt']]\n",
    "print(\"Heroku files ready:\", files)"
   ]
  }
 ],
 "metadata": {
  "kernelspec": {
   "display_name": "venv",
   "language": "python",
   "name": "python3"
  },
  "language_info": {
   "codemirror_mode": {
    "name": "ipython",
    "version": 3
   },
   "file_extension": ".py",
   "mimetype": "text/x-python",
   "name": "python",
   "nbconvert_exporter": "python",
   "pygments_lexer": "ipython3",
   "version": "3.9.7"
  }
 },
 "nbformat": 4,
 "nbformat_minor": 5
}
